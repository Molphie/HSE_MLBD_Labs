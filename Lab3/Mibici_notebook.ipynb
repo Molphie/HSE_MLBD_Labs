{
 "cells": [
  {
   "cell_type": "code",
   "execution_count": 1,
   "id": "89dc6ee4-e5af-4d3d-a66d-15a62e48f37c",
   "metadata": {},
   "outputs": [],
   "source": [
    "from pyspark.sql import SparkSession\n",
    "from pyspark.sql.functions import col, hour, dayofweek, when, unix_timestamp\n",
    "from pyspark.ml.feature import StringIndexer, VectorAssembler\n",
    "from pyspark.ml.classification import RandomForestClassifier\n",
    "from pyspark.ml.regression import LinearRegression\n",
    "from pyspark.ml.clustering import KMeans\n",
    "from pyspark.ml import Pipeline\n",
    "from pyspark.ml.evaluation import MulticlassClassificationEvaluator, BinaryClassificationEvaluator, RegressionEvaluator, ClusteringEvaluator"
   ]
  },
  {
   "cell_type": "code",
   "execution_count": 2,
   "id": "53c5483e-a249-4a00-bd1f-d62acd34e854",
   "metadata": {},
   "outputs": [
    {
     "name": "stderr",
     "output_type": "stream",
     "text": [
      "25/06/25 05:23:06 WARN Utils: Your hostname, Molphie resolves to a loopback address: 127.0.1.1; using 192.168.6.223 instead (on interface enp4s0)\n",
      "25/06/25 05:23:06 WARN Utils: Set SPARK_LOCAL_IP if you need to bind to another address\n",
      "Setting default log level to \"WARN\".\n",
      "To adjust logging level use sc.setLogLevel(newLevel). For SparkR, use setLogLevel(newLevel).\n",
      "25/06/25 05:23:07 WARN NativeCodeLoader: Unable to load native-hadoop library for your platform... using builtin-java classes where applicable\n",
      "                                                                                "
     ]
    }
   ],
   "source": [
    "spark = SparkSession.builder \\\n",
    "    .appName(\"MiBiciAnalysis\") \\\n",
    "    .config(\"spark.driver.memory\", \"4g\") \\\n",
    "    .config(\"spark.executor.memory\", \"4g\") \\\n",
    "    .getOrCreate()\n",
    "\n",
    "df = spark.read.csv(\"mibici_trips.csv\", header=True, inferSchema=True)"
   ]
  },
  {
   "cell_type": "code",
   "execution_count": 3,
   "id": "f11c4975-4f8c-4da4-9f19-2bf9ff4c317a",
   "metadata": {},
   "outputs": [],
   "source": [
    "data = df.withColumn(\n",
    "    \"duration_min\",\n",
    "    (unix_timestamp(\"Trip_end\") - unix_timestamp(\"Trip_start\")) / 60\n",
    ").withColumn(\n",
    "    \"hour\", hour(\"Trip_start\")\n",
    ").withColumn(\n",
    "    \"dayofweek\", dayofweek(\"Trip_start\")\n",
    ").withColumn(\n",
    "    \"long_trip\", when(col(\"duration_min\") > 20, 1).otherwise(0)\n",
    ")"
   ]
  },
  {
   "cell_type": "code",
   "execution_count": 4,
   "id": "af5a44ef-b588-407a-ac88-02d0e075d312",
   "metadata": {},
   "outputs": [
    {
     "name": "stderr",
     "output_type": "stream",
     "text": [
      "                                                                                "
     ]
    }
   ],
   "source": [
    "sex_indexer = StringIndexer(inputCol=\"Sex\", outputCol=\"Sex_idx\", handleInvalid=\"keep\")\n",
    "data = sex_indexer.fit(data).transform(data)\n",
    "\n",
    "# Заполнение пропусков в возрасте медианой\n",
    "if data.filter(col(\"Age\").isNull()).count() > 0:\n",
    "    median_age = data.approxQuantile(\"Age\", [0.5], 0.01)[0]\n",
    "    data = data.fillna({\"Age\": median_age})"
   ]
  },
  {
   "cell_type": "markdown",
   "id": "ef49abdc-bbfa-44d6-8de5-c017f558e1c9",
   "metadata": {},
   "source": [
    "# Классификация\n",
    "предсказать, будет ли поездка длинной (> 20 мин)"
   ]
  },
  {
   "cell_type": "code",
   "execution_count": 5,
   "id": "12ec4bc4-7de1-4f22-8064-17a3f0963bbb",
   "metadata": {},
   "outputs": [
    {
     "name": "stderr",
     "output_type": "stream",
     "text": [
      "25/06/25 05:23:34 WARN CSVHeaderChecker: CSV header does not conform to the schema.\n",
      " Header: , Trip_Id, User_Id, Sex, Birth_year, Trip_start, Trip_end, Origin_Id, Destination_Id, Age, Duration\n",
      " Schema: _c0, Trip_Id, User_Id, Sex, Birth_year, Trip_start, Trip_end, Origin_Id, Destination_Id, Age, Duration\n",
      "Expected: _c0 but found: \n",
      "CSV file: file:///home/evgeniy/HSE/MLBD/Lab3/mibici_trips.csv\n",
      "25/06/25 05:23:52 WARN CSVHeaderChecker: CSV header does not conform to the schema.\n",
      " Header: , Trip_Id, User_Id, Sex, Birth_year, Trip_start, Trip_end, Origin_Id, Destination_Id, Age, Duration\n",
      " Schema: _c0, Trip_Id, User_Id, Sex, Birth_year, Trip_start, Trip_end, Origin_Id, Destination_Id, Age, Duration\n",
      "Expected: _c0 but found: \n",
      "CSV file: file:///home/evgeniy/HSE/MLBD/Lab3/mibici_trips.csv\n",
      "25/06/25 05:23:55 WARN CSVHeaderChecker: CSV header does not conform to the schema.\n",
      " Header: , Trip_Id, User_Id, Sex, Birth_year, Trip_start, Trip_end, Origin_Id, Destination_Id, Age, Duration\n",
      " Schema: _c0, Trip_Id, User_Id, Sex, Birth_year, Trip_start, Trip_end, Origin_Id, Destination_Id, Age, Duration\n",
      "Expected: _c0 but found: \n",
      "CSV file: file:///home/evgeniy/HSE/MLBD/Lab3/mibici_trips.csv\n",
      "25/06/25 05:24:17 WARN CSVHeaderChecker: CSV header does not conform to the schema.\n",
      " Header: , Trip_Id, User_Id, Sex, Birth_year, Trip_start, Trip_end, Origin_Id, Destination_Id, Age, Duration\n",
      " Schema: _c0, Trip_Id, User_Id, Sex, Birth_year, Trip_start, Trip_end, Origin_Id, Destination_Id, Age, Duration\n",
      "Expected: _c0 but found: \n",
      "CSV file: file:///home/evgeniy/HSE/MLBD/Lab3/mibici_trips.csv\n",
      "25/06/25 05:24:38 WARN CSVHeaderChecker: CSV header does not conform to the schema.\n",
      " Header: , Trip_Id, User_Id, Sex, Birth_year, Trip_start, Trip_end, Origin_Id, Destination_Id, Age, Duration\n",
      " Schema: _c0, Trip_Id, User_Id, Sex, Birth_year, Trip_start, Trip_end, Origin_Id, Destination_Id, Age, Duration\n",
      "Expected: _c0 but found: \n",
      "CSV file: file:///home/evgeniy/HSE/MLBD/Lab3/mibici_trips.csv\n",
      "25/06/25 05:24:53 WARN MemoryStore: Not enough space to cache rdd_52_5 in memory! (computed 92.5 MiB so far)\n",
      "25/06/25 05:24:53 WARN BlockManager: Persisting block rdd_52_5 to disk instead.\n",
      "25/06/25 05:24:53 WARN MemoryStore: Not enough space to cache rdd_52_8 in memory! (computed 92.5 MiB so far)\n",
      "25/06/25 05:24:53 WARN BlockManager: Persisting block rdd_52_8 to disk instead.\n",
      "25/06/25 05:24:53 WARN MemoryStore: Not enough space to cache rdd_52_10 in memory! (computed 92.5 MiB so far)\n",
      "25/06/25 05:24:53 WARN BlockManager: Persisting block rdd_52_10 to disk instead.\n",
      "25/06/25 05:24:53 WARN MemoryStore: Not enough space to cache rdd_52_0 in memory! (computed 92.5 MiB so far)\n",
      "25/06/25 05:24:53 WARN BlockManager: Persisting block rdd_52_0 to disk instead.\n",
      "25/06/25 05:24:53 WARN MemoryStore: Not enough space to cache rdd_52_3 in memory! (computed 92.5 MiB so far)\n",
      "25/06/25 05:24:53 WARN BlockManager: Persisting block rdd_52_3 to disk instead.\n",
      "25/06/25 05:24:53 WARN MemoryStore: Not enough space to cache rdd_52_7 in memory! (computed 92.5 MiB so far)\n",
      "25/06/25 05:24:53 WARN BlockManager: Persisting block rdd_52_7 to disk instead.\n",
      "25/06/25 05:24:53 WARN MemoryStore: Not enough space to cache rdd_52_11 in memory! (computed 92.5 MiB so far)\n",
      "25/06/25 05:24:53 WARN BlockManager: Persisting block rdd_52_11 to disk instead.\n",
      "25/06/25 05:24:53 WARN MemoryStore: Not enough space to cache rdd_52_6 in memory! (computed 92.5 MiB so far)\n",
      "25/06/25 05:24:53 WARN BlockManager: Persisting block rdd_52_6 to disk instead.\n",
      "25/06/25 05:25:01 WARN MemoryStore: Not enough space to cache rdd_52_8 in memory! (computed 138.7 MiB so far)\n",
      "25/06/25 05:25:01 WARN MemoryStore: Not enough space to cache rdd_52_10 in memory! (computed 138.7 MiB so far)\n",
      "25/06/25 05:25:01 WARN MemoryStore: Not enough space to cache rdd_52_11 in memory! (computed 138.7 MiB so far)\n",
      "25/06/25 05:25:01 WARN MemoryStore: Not enough space to cache rdd_52_5 in memory! (computed 138.7 MiB so far)\n",
      "25/06/25 05:25:01 WARN MemoryStore: Not enough space to cache rdd_52_0 in memory! (computed 138.7 MiB so far)\n",
      "25/06/25 05:25:01 WARN MemoryStore: Not enough space to cache rdd_52_7 in memory! (computed 138.7 MiB so far)\n",
      "25/06/25 05:25:01 WARN MemoryStore: Not enough space to cache rdd_52_6 in memory! (computed 138.7 MiB so far)\n",
      "25/06/25 05:25:15 WARN MemoryStore: Not enough space to cache rdd_52_5 in memory! (computed 41.1 MiB so far)\n",
      "25/06/25 05:25:15 WARN MemoryStore: Not enough space to cache rdd_52_11 in memory! (computed 41.1 MiB so far)\n",
      "25/06/25 05:25:15 WARN MemoryStore: Not enough space to cache rdd_52_10 in memory! (computed 41.1 MiB so far)\n",
      "25/06/25 05:25:15 WARN MemoryStore: Not enough space to cache rdd_52_2 in memory! (computed 41.1 MiB so far)\n",
      "25/06/25 05:25:15 WARN MemoryStore: Not enough space to cache rdd_52_7 in memory! (computed 41.1 MiB so far)\n",
      "25/06/25 05:25:16 WARN MemoryStore: Not enough space to cache rdd_52_6 in memory! (computed 41.1 MiB so far)\n",
      "25/06/25 05:25:16 WARN MemoryStore: Not enough space to cache rdd_52_8 in memory! (computed 41.1 MiB so far)\n",
      "25/06/25 05:25:16 WARN MemoryStore: Not enough space to cache rdd_52_0 in memory! (computed 41.1 MiB so far)\n",
      "25/06/25 05:25:22 WARN MemoryStore: Not enough space to cache rdd_52_5 in memory! (computed 41.1 MiB so far)\n",
      "25/06/25 05:25:22 WARN MemoryStore: Not enough space to cache rdd_52_2 in memory! (computed 27.4 MiB so far)\n",
      "25/06/25 05:25:22 WARN MemoryStore: Not enough space to cache rdd_52_6 in memory! (computed 41.1 MiB so far)\n",
      "25/06/25 05:25:22 WARN MemoryStore: Not enough space to cache rdd_52_7 in memory! (computed 41.1 MiB so far)\n",
      "25/06/25 05:25:22 WARN MemoryStore: Not enough space to cache rdd_52_8 in memory! (computed 41.1 MiB so far)\n",
      "25/06/25 05:25:22 WARN MemoryStore: Not enough space to cache rdd_52_11 in memory! (computed 27.4 MiB so far)\n",
      "25/06/25 05:25:22 WARN MemoryStore: Not enough space to cache rdd_52_10 in memory! (computed 61.6 MiB so far)\n",
      "25/06/25 05:25:22 WARN MemoryStore: Not enough space to cache rdd_52_0 in memory! (computed 41.1 MiB so far)\n",
      "25/06/25 05:25:30 WARN MemoryStore: Not enough space to cache rdd_52_7 in memory! (computed 27.4 MiB so far)\n",
      "25/06/25 05:25:30 WARN MemoryStore: Not enough space to cache rdd_52_10 in memory! (computed 41.1 MiB so far)\n",
      "25/06/25 05:25:30 WARN MemoryStore: Not enough space to cache rdd_52_0 in memory! (computed 41.1 MiB so far)\n",
      "25/06/25 05:25:30 WARN MemoryStore: Not enough space to cache rdd_52_11 in memory! (computed 41.1 MiB so far)\n",
      "25/06/25 05:25:30 WARN MemoryStore: Not enough space to cache rdd_52_2 in memory! (computed 27.4 MiB so far)\n",
      "25/06/25 05:25:30 WARN MemoryStore: Not enough space to cache rdd_52_5 in memory! (computed 41.1 MiB so far)\n",
      "25/06/25 05:25:30 WARN MemoryStore: Not enough space to cache rdd_52_8 in memory! (computed 41.1 MiB so far)\n",
      "25/06/25 05:25:30 WARN MemoryStore: Not enough space to cache rdd_52_6 in memory! (computed 61.6 MiB so far)\n",
      "25/06/25 05:25:39 WARN MemoryStore: Not enough space to cache rdd_52_5 in memory! (computed 17.8 MiB so far)\n",
      "25/06/25 05:25:39 WARN MemoryStore: Not enough space to cache rdd_52_8 in memory! (computed 41.1 MiB so far)\n",
      "25/06/25 05:25:39 WARN MemoryStore: Not enough space to cache rdd_52_10 in memory! (computed 17.8 MiB so far)\n",
      "25/06/25 05:25:39 WARN MemoryStore: Not enough space to cache rdd_52_11 in memory! (computed 41.1 MiB so far)\n",
      "25/06/25 05:25:39 WARN MemoryStore: Not enough space to cache rdd_52_6 in memory! (computed 27.4 MiB so far)\n",
      "25/06/25 05:25:39 WARN MemoryStore: Not enough space to cache rdd_52_2 in memory! (computed 61.6 MiB so far)\n",
      "25/06/25 05:25:39 WARN MemoryStore: Not enough space to cache rdd_52_0 in memory! (computed 61.6 MiB so far)\n",
      "25/06/25 05:25:40 WARN MemoryStore: Not enough space to cache rdd_52_7 in memory! (computed 61.6 MiB so far)\n",
      "25/06/25 05:25:51 WARN CSVHeaderChecker: CSV header does not conform to the schema.\n",
      " Header: , Trip_Id, User_Id, Sex, Birth_year, Trip_start, Trip_end, Origin_Id, Destination_Id, Age, Duration\n",
      " Schema: _c0, Trip_Id, User_Id, Sex, Birth_year, Trip_start, Trip_end, Origin_Id, Destination_Id, Age, Duration\n",
      "Expected: _c0 but found: \n",
      "CSV file: file:///home/evgeniy/HSE/MLBD/Lab3/mibici_trips.csv\n",
      "25/06/25 05:26:16 WARN CSVHeaderChecker: CSV header does not conform to the schema.\n",
      " Header: , Trip_Id, User_Id, Sex, Birth_year, Trip_start, Trip_end, Origin_Id, Destination_Id, Age, Duration\n",
      " Schema: _c0, Trip_Id, User_Id, Sex, Birth_year, Trip_start, Trip_end, Origin_Id, Destination_Id, Age, Duration\n",
      "Expected: _c0 but found: \n",
      "CSV file: file:///home/evgeniy/HSE/MLBD/Lab3/mibici_trips.csv\n",
      "[Stage 27:=====================================================>  (18 + 1) / 19]"
     ]
    },
    {
     "name": "stdout",
     "output_type": "stream",
     "text": [
      "Классификация\n",
      "Accuracy: 0.892\n",
      "AUC: 0.500\n"
     ]
    },
    {
     "name": "stderr",
     "output_type": "stream",
     "text": [
      "                                                                                "
     ]
    }
   ],
   "source": [
    "feature_cols = [\"hour\", \"dayofweek\", \"Sex_idx\", \"Age\"]\n",
    "assembler = VectorAssembler(inputCols=feature_cols, outputCol=\"features\")\n",
    "rf = RandomForestClassifier(labelCol=\"long_trip\", featuresCol=\"features\", seed=42)\n",
    "pipeline = Pipeline(stages=[assembler, rf])\n",
    "\n",
    "train, test = data.randomSplit([0.7, 0.3], seed=42)\n",
    "model = pipeline.fit(train)\n",
    "pred = model.transform(test)\n",
    "\n",
    "acc = MulticlassClassificationEvaluator(labelCol=\"long_trip\", metricName=\"accuracy\").evaluate(pred)\n",
    "auc = BinaryClassificationEvaluator(labelCol=\"long_trip\").evaluate(pred)\n",
    "print(f\"Классификация\\nAccuracy: {acc:.3f}\\nAUC: {auc:.3f}\")"
   ]
  },
  {
   "cell_type": "markdown",
   "id": "863741f1-bd83-4f8f-9300-6ca826fe3b89",
   "metadata": {},
   "source": [
    "# Регрессия длительности поездки"
   ]
  },
  {
   "cell_type": "code",
   "execution_count": 6,
   "id": "7e55fa5c-8c2a-4445-8f76-1e0738cbf9ad",
   "metadata": {},
   "outputs": [
    {
     "name": "stderr",
     "output_type": "stream",
     "text": [
      "25/06/25 05:26:38 WARN Instrumentation: [f0bb0db5] regParam is zero, which might cause numerical instability and overfitting.\n",
      "25/06/25 05:26:38 WARN CSVHeaderChecker: CSV header does not conform to the schema.\n",
      " Header: , Trip_Id, User_Id, Sex, Birth_year, Trip_start, Trip_end, Origin_Id, Destination_Id, Age, Duration\n",
      " Schema: _c0, Trip_Id, User_Id, Sex, Birth_year, Trip_start, Trip_end, Origin_Id, Destination_Id, Age, Duration\n",
      "Expected: _c0 but found: \n",
      "CSV file: file:///home/evgeniy/HSE/MLBD/Lab3/mibici_trips.csv\n",
      "25/06/25 05:27:00 WARN CSVHeaderChecker: CSV header does not conform to the schema.\n",
      " Header: , Trip_Id, User_Id, Sex, Birth_year, Trip_start, Trip_end, Origin_Id, Destination_Id, Age, Duration\n",
      " Schema: _c0, Trip_Id, User_Id, Sex, Birth_year, Trip_start, Trip_end, Origin_Id, Destination_Id, Age, Duration\n",
      "Expected: _c0 but found: \n",
      "CSV file: file:///home/evgeniy/HSE/MLBD/Lab3/mibici_trips.csv\n",
      "25/06/25 05:27:22 WARN CSVHeaderChecker: CSV header does not conform to the schema.\n",
      " Header: , Trip_Id, User_Id, Sex, Birth_year, Trip_start, Trip_end, Origin_Id, Destination_Id, Age, Duration\n",
      " Schema: _c0, Trip_Id, User_Id, Sex, Birth_year, Trip_start, Trip_end, Origin_Id, Destination_Id, Age, Duration\n",
      "Expected: _c0 but found: \n",
      "CSV file: file:///home/evgeniy/HSE/MLBD/Lab3/mibici_trips.csv\n",
      "25/06/25 05:27:40 WARN CSVHeaderChecker: CSV header does not conform to the schema.\n",
      " Header: , Trip_Id, User_Id, Sex, Birth_year, Trip_start, Trip_end, Origin_Id, Destination_Id, Age, Duration\n",
      " Schema: _c0, Trip_Id, User_Id, Sex, Birth_year, Trip_start, Trip_end, Origin_Id, Destination_Id, Age, Duration\n",
      "Expected: _c0 but found: \n",
      "CSV file: file:///home/evgeniy/HSE/MLBD/Lab3/mibici_trips.csv\n",
      "[Stage 44:=====================================================>  (18 + 1) / 19]"
     ]
    },
    {
     "name": "stdout",
     "output_type": "stream",
     "text": [
      "\n",
      "Регрессия\n",
      "RMSE: 963.574\n",
      "R²: 0.000\n"
     ]
    },
    {
     "name": "stderr",
     "output_type": "stream",
     "text": [
      "                                                                                "
     ]
    }
   ],
   "source": [
    "reg_assembler = VectorAssembler(inputCols=feature_cols, outputCol=\"features\")\n",
    "reg = LinearRegression(featuresCol=\"features\", labelCol=\"duration_min\")\n",
    "pipeline_reg = Pipeline(stages=[reg_assembler, reg])\n",
    "\n",
    "train_reg, test_reg = data.randomSplit([0.7, 0.3], seed=43)\n",
    "model_reg = pipeline_reg.fit(train_reg)\n",
    "pred_reg = model_reg.transform(test_reg)\n",
    "\n",
    "rmse = RegressionEvaluator(labelCol=\"duration_min\", predictionCol=\"prediction\", metricName=\"rmse\").evaluate(pred_reg)\n",
    "r2 = RegressionEvaluator(labelCol=\"duration_min\", predictionCol=\"prediction\", metricName=\"r2\").evaluate(pred_reg)\n",
    "print(f\"\\nРегрессия\\nRMSE: {rmse:.3f}\\nR²: {r2:.3f}\")"
   ]
  },
  {
   "cell_type": "markdown",
   "id": "ee8b5dbb-c4a6-44d5-8fb3-8358097c87ef",
   "metadata": {},
   "source": [
    "# Кластеризация"
   ]
  },
  {
   "cell_type": "code",
   "execution_count": 7,
   "id": "d47b416e-f7b4-435b-9e5d-53b4d84e8f33",
   "metadata": {},
   "outputs": [
    {
     "name": "stderr",
     "output_type": "stream",
     "text": [
      "25/06/25 05:28:49 WARN MemoryStore: Not enough space to cache rdd_188_16 in memory! (computed 96.3 MiB so far)\n",
      "25/06/25 05:28:49 WARN BlockManager: Persisting block rdd_188_16 to disk instead.\n",
      "25/06/25 05:28:49 WARN MemoryStore: Not enough space to cache rdd_188_17 in memory! (computed 96.3 MiB so far)\n",
      "25/06/25 05:28:49 WARN BlockManager: Persisting block rdd_188_17 to disk instead.\n",
      "25/06/25 05:28:49 WARN MemoryStore: Not enough space to cache rdd_188_12 in memory! (computed 96.3 MiB so far)\n",
      "25/06/25 05:28:49 WARN BlockManager: Persisting block rdd_188_12 to disk instead.\n",
      "25/06/25 05:28:49 WARN MemoryStore: Not enough space to cache rdd_188_15 in memory! (computed 96.3 MiB so far)\n",
      "25/06/25 05:28:49 WARN BlockManager: Persisting block rdd_188_15 to disk instead.\n",
      "25/06/25 05:28:49 WARN MemoryStore: Not enough space to cache rdd_188_14 in memory! (computed 96.3 MiB so far)\n",
      "25/06/25 05:28:49 WARN BlockManager: Persisting block rdd_188_14 to disk instead.\n",
      "25/06/25 05:28:50 WARN MemoryStore: Not enough space to cache rdd_188_18 in memory! (computed 96.3 MiB so far)\n",
      "25/06/25 05:28:50 WARN BlockManager: Persisting block rdd_188_18 to disk instead.\n",
      "25/06/25 05:28:50 WARN MemoryStore: Not enough space to cache rdd_188_13 in memory! (computed 96.3 MiB so far)\n",
      "25/06/25 05:28:50 WARN BlockManager: Persisting block rdd_188_13 to disk instead.\n",
      "25/06/25 05:28:57 WARN MemoryStore: Not enough space to cache rdd_188_16 in memory! (computed 64.2 MiB so far)\n",
      "25/06/25 05:28:57 WARN MemoryStore: Not enough space to cache rdd_188_15 in memory! (computed 96.3 MiB so far)\n",
      "25/06/25 05:28:58 WARN MemoryStore: Not enough space to cache rdd_188_16 in memory! (computed 28.4 MiB so far)\n",
      "25/06/25 05:28:58 WARN MemoryStore: Not enough space to cache rdd_188_15 in memory! (computed 64.2 MiB so far)\n",
      "25/06/25 05:29:02 WARN MemoryStore: Not enough space to cache rdd_188_16 in memory! (computed 64.2 MiB so far)\n",
      "25/06/25 05:29:02 WARN MemoryStore: Not enough space to cache rdd_188_14 in memory! (computed 96.3 MiB so far)\n",
      "25/06/25 05:29:02 WARN MemoryStore: Not enough space to cache rdd_188_12 in memory! (computed 64.2 MiB so far)\n",
      "25/06/25 05:29:02 WARN MemoryStore: Not enough space to cache rdd_188_15 in memory! (computed 96.3 MiB so far)\n",
      "25/06/25 05:29:02 WARN MemoryStore: Not enough space to cache rdd_188_14 in memory! (computed 5.3 MiB so far)\n",
      "25/06/25 05:29:03 WARN MemoryStore: Not enough space to cache rdd_188_15 in memory! (computed 1026.0 KiB so far)\n",
      "25/06/25 05:29:04 WARN MemoryStore: Not enough space to cache rdd_188_16 in memory! (computed 64.2 MiB so far)\n",
      "25/06/25 05:29:09 WARN MemoryStore: Not enough space to cache rdd_188_6 in memory! (computed 96.3 MiB so far)\n",
      "25/06/25 05:29:09 WARN MemoryStore: Not enough space to cache rdd_188_15 in memory! (computed 64.2 MiB so far)\n",
      "25/06/25 05:29:09 WARN MemoryStore: Not enough space to cache rdd_188_16 in memory! (computed 96.3 MiB so far)\n",
      "25/06/25 05:29:09 WARN MemoryStore: Not enough space to cache rdd_188_14 in memory! (computed 64.2 MiB so far)\n",
      "25/06/25 05:29:22 WARN MemoryStore: Not enough space to cache rdd_188_2 in memory! (computed 64.2 MiB so far)\n",
      "25/06/25 05:29:22 WARN MemoryStore: Not enough space to cache rdd_188_9 in memory! (computed 42.8 MiB so far)\n",
      "25/06/25 05:29:22 WARN MemoryStore: Not enough space to cache rdd_188_11 in memory! (computed 64.2 MiB so far)\n",
      "25/06/25 05:29:25 WARN MemoryStore: Not enough space to cache rdd_188_9 in memory! (computed 64.2 MiB so far)\n",
      "25/06/25 05:29:26 WARN MemoryStore: Not enough space to cache rdd_188_10 in memory! (computed 96.3 MiB so far)\n",
      "25/06/25 05:29:26 WARN MemoryStore: Not enough space to cache rdd_188_11 in memory! (computed 96.3 MiB so far)\n",
      "25/06/25 05:29:28 WARN MemoryStore: Not enough space to cache rdd_188_9 in memory! (computed 64.2 MiB so far)\n",
      "25/06/25 05:29:28 WARN MemoryStore: Not enough space to cache rdd_188_11 in memory! (computed 96.3 MiB so far)\n",
      "25/06/25 05:29:29 WARN MemoryStore: Not enough space to cache rdd_188_11 in memory! (computed 28.4 MiB so far)\n",
      "25/06/25 05:29:29 WARN MemoryStore: Not enough space to cache rdd_188_9 in memory! (computed 64.2 MiB so far)\n",
      "25/06/25 05:29:31 WARN MemoryStore: Not enough space to cache rdd_188_9 in memory! (computed 28.4 MiB so far)\n",
      "25/06/25 05:29:31 WARN MemoryStore: Not enough space to cache rdd_188_11 in memory! (computed 64.2 MiB so far)\n",
      "25/06/25 05:29:32 WARN MemoryStore: Not enough space to cache rdd_188_11 in memory! (computed 28.4 MiB so far)\n",
      "25/06/25 05:29:32 WARN MemoryStore: Not enough space to cache rdd_188_9 in memory! (computed 64.2 MiB so far)\n",
      "25/06/25 05:29:34 WARN MemoryStore: Not enough space to cache rdd_188_11 in memory! (computed 28.4 MiB so far)\n",
      "25/06/25 05:29:34 WARN MemoryStore: Not enough space to cache rdd_188_9 in memory! (computed 64.2 MiB so far)\n",
      "25/06/25 05:29:35 WARN MemoryStore: Not enough space to cache rdd_188_11 in memory! (computed 28.4 MiB so far)\n",
      "25/06/25 05:29:35 WARN MemoryStore: Not enough space to cache rdd_188_9 in memory! (computed 64.2 MiB so far)\n",
      "25/06/25 05:29:36 WARN MemoryStore: Not enough space to cache rdd_188_9 in memory! (computed 28.4 MiB so far)\n",
      "25/06/25 05:29:37 WARN MemoryStore: Not enough space to cache rdd_188_11 in memory! (computed 64.2 MiB so far)\n",
      "25/06/25 05:29:38 WARN MemoryStore: Not enough space to cache rdd_188_9 in memory! (computed 42.8 MiB so far)\n",
      "25/06/25 05:29:38 WARN MemoryStore: Not enough space to cache rdd_188_11 in memory! (computed 28.4 MiB so far)\n",
      "25/06/25 05:29:39 WARN MemoryStore: Not enough space to cache rdd_188_9 in memory! (computed 28.4 MiB so far)\n",
      "25/06/25 05:29:40 WARN MemoryStore: Not enough space to cache rdd_188_11 in memory! (computed 64.2 MiB so far)\n",
      "25/06/25 05:29:41 WARN MemoryStore: Not enough space to cache rdd_188_11 in memory! (computed 28.4 MiB so far)\n",
      "25/06/25 05:29:41 WARN MemoryStore: Not enough space to cache rdd_188_9 in memory! (computed 64.2 MiB so far)\n",
      "25/06/25 05:29:42 WARN MemoryStore: Not enough space to cache rdd_188_11 in memory! (computed 28.4 MiB so far)\n",
      "25/06/25 05:29:43 WARN MemoryStore: Not enough space to cache rdd_188_9 in memory! (computed 64.2 MiB so far)\n",
      "25/06/25 05:29:44 WARN MemoryStore: Not enough space to cache rdd_188_11 in memory! (computed 28.4 MiB so far)\n",
      "25/06/25 05:29:44 WARN MemoryStore: Not enough space to cache rdd_188_9 in memory! (computed 64.2 MiB so far)\n",
      "25/06/25 05:29:45 WARN MemoryStore: Not enough space to cache rdd_188_9 in memory! (computed 28.4 MiB so far)\n",
      "25/06/25 05:29:45 WARN MemoryStore: Not enough space to cache rdd_188_11 in memory! (computed 64.2 MiB so far)\n",
      "25/06/25 05:29:46 WARN MemoryStore: Not enough space to cache rdd_188_9 in memory! (computed 28.4 MiB so far)\n",
      "25/06/25 05:29:47 WARN MemoryStore: Not enough space to cache rdd_188_11 in memory! (computed 64.2 MiB so far)\n",
      "25/06/25 05:29:48 WARN MemoryStore: Not enough space to cache rdd_188_9 in memory! (computed 28.4 MiB so far)\n",
      "25/06/25 05:29:48 WARN MemoryStore: Not enough space to cache rdd_188_11 in memory! (computed 64.2 MiB so far)\n",
      "25/06/25 05:29:49 WARN MemoryStore: Not enough space to cache rdd_188_9 in memory! (computed 28.4 MiB so far)\n",
      "25/06/25 05:29:50 WARN MemoryStore: Not enough space to cache rdd_188_11 in memory! (computed 64.2 MiB so far)\n",
      "25/06/25 05:29:51 WARN MemoryStore: Not enough space to cache rdd_188_9 in memory! (computed 28.4 MiB so far)\n",
      "25/06/25 05:29:51 WARN MemoryStore: Not enough space to cache rdd_188_11 in memory! (computed 64.2 MiB so far)\n",
      "25/06/25 05:29:52 WARN MemoryStore: Not enough space to cache rdd_188_11 in memory! (computed 28.4 MiB so far)\n",
      "25/06/25 05:29:52 WARN MemoryStore: Not enough space to cache rdd_188_9 in memory! (computed 64.2 MiB so far)\n",
      "25/06/25 05:29:53 WARN MemoryStore: Not enough space to cache rdd_188_9 in memory! (computed 28.4 MiB so far)\n",
      "25/06/25 05:29:54 WARN MemoryStore: Not enough space to cache rdd_188_11 in memory! (computed 64.2 MiB so far)\n",
      "25/06/25 05:29:55 WARN MemoryStore: Not enough space to cache rdd_188_9 in memory! (computed 28.4 MiB so far)\n",
      "25/06/25 05:29:55 WARN MemoryStore: Not enough space to cache rdd_188_11 in memory! (computed 64.2 MiB so far)\n",
      "                                                                                "
     ]
    },
    {
     "name": "stdout",
     "output_type": "stream",
     "text": [
      "+----------+--------+\n",
      "|prediction|   count|\n",
      "+----------+--------+\n",
      "|         2|     649|\n",
      "|         0|25862409|\n",
      "|         3|     309|\n",
      "|         4|      92|\n",
      "|         1|     231|\n",
      "+----------+--------+\n",
      "\n"
     ]
    },
    {
     "name": "stderr",
     "output_type": "stream",
     "text": [
      "[Stage 105:====================================================>  (18 + 1) / 19]"
     ]
    },
    {
     "name": "stdout",
     "output_type": "stream",
     "text": [
      "\n",
      "Кластеризация\n",
      "Silhouette: 1.000\n",
      "WSSSE: 805113861995.76\n"
     ]
    },
    {
     "name": "stderr",
     "output_type": "stream",
     "text": [
      "                                                                                "
     ]
    }
   ],
   "source": [
    "clust_assembler = VectorAssembler(inputCols=[\"hour\", \"dayofweek\", \"duration_min\", \"Age\"], outputCol=\"features\")\n",
    "clust_df = clust_assembler.transform(data)\n",
    "\n",
    "kmeans = KMeans(featuresCol=\"features\", k=5, seed=42)\n",
    "kmeans_model = kmeans.fit(clust_df)\n",
    "pred_clust = kmeans_model.transform(clust_df)\n",
    "pred_clust.groupBy(\"prediction\").count().show()\n",
    "\n",
    "silhouette = ClusteringEvaluator(metricName=\"silhouette\", featuresCol=\"features\", predictionCol=\"prediction\").evaluate(pred_clust)\n",
    "cost = kmeans_model.summary.trainingCost\n",
    "\n",
    "print(f\"\\nКластеризация\\nSilhouette: {silhouette:.3f}\\nWSSSE: {cost:.2f}\")\n"
   ]
  }
 ],
 "metadata": {
  "kernelspec": {
   "display_name": "Python 3 (ipykernel)",
   "language": "python",
   "name": "python3"
  },
  "language_info": {
   "codemirror_mode": {
    "name": "ipython",
    "version": 3
   },
   "file_extension": ".py",
   "mimetype": "text/x-python",
   "name": "python",
   "nbconvert_exporter": "python",
   "pygments_lexer": "ipython3",
   "version": "3.12.9"
  }
 },
 "nbformat": 4,
 "nbformat_minor": 5
}
