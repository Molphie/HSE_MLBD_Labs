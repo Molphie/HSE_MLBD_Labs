{
 "cells": [
  {
   "cell_type": "code",
   "execution_count": 11,
   "id": "d89e048a-1bbb-4379-b0c6-77354ece7c7f",
   "metadata": {},
   "outputs": [],
   "source": [
    "from pyspark.sql import SparkSession\n",
    "from pyspark.ml.feature import StringIndexer, VectorAssembler\n",
    "from pyspark.ml.classification import LogisticRegression\n",
    "from pyspark.ml.clustering import KMeans\n",
    "from pyspark.ml.evaluation import MulticlassClassificationEvaluator, ClusteringEvaluator\n",
    "from pyspark.ml.tuning import TrainValidationSplit, ParamGridBuilder\n",
    "\n",
    "spark = SparkSession.builder.appName(\"IrisClassificationClustering\").getOrCreate()"
   ]
  },
  {
   "cell_type": "markdown",
   "id": "fd94992c-7627-435c-896d-fc412bc08836",
   "metadata": {},
   "source": [
    "## Загрузка и предобработка данных"
   ]
  },
  {
   "cell_type": "code",
   "execution_count": 12,
   "id": "0af97d94-155d-4a2f-b775-b6e1bf39f672",
   "metadata": {},
   "outputs": [],
   "source": [
    "df = spark.read.csv(\"Iris.csv\", header=True, inferSchema=True)"
   ]
  },
  {
   "cell_type": "code",
   "execution_count": 13,
   "id": "8eb9cd15-1241-4f2c-925d-c519659e2ec0",
   "metadata": {},
   "outputs": [],
   "source": [
    "indexer = StringIndexer(inputCol=\"Species\", outputCol=\"label\")\n",
    "df = indexer.fit(df).transform(df)"
   ]
  },
  {
   "cell_type": "code",
   "execution_count": 14,
   "id": "23f4604c-d0a3-427b-9dd6-5b01d3a2b00c",
   "metadata": {},
   "outputs": [],
   "source": [
    "assembler = VectorAssembler(\n",
    "    inputCols=[\"SepalLengthCm\", \"SepalWidthCm\", \"PetalLengthCm\", \"PetalWidthCm\"],\n",
    "    outputCol=\"features\"\n",
    ")\n",
    "df = assembler.transform(df)"
   ]
  },
  {
   "cell_type": "code",
   "execution_count": 15,
   "id": "eb953b51-4f13-4756-bbb4-85e8ac8eab24",
   "metadata": {},
   "outputs": [],
   "source": [
    "train_data, test_data = df.randomSplit([0.7, 0.3], seed=42)"
   ]
  },
  {
   "cell_type": "markdown",
   "id": "f97cb0d2-d36e-44ed-8f1d-8e59fa27b654",
   "metadata": {},
   "source": [
    "## Классификация"
   ]
  },
  {
   "cell_type": "code",
   "execution_count": 16,
   "id": "3456deb4-3744-45d1-b5fd-869a02291cf1",
   "metadata": {},
   "outputs": [],
   "source": [
    "lr = LogisticRegression(featuresCol=\"features\", labelCol=\"label\", maxIter=10)\n",
    "lr_model = lr.fit(train_data)"
   ]
  },
  {
   "cell_type": "code",
   "execution_count": 17,
   "id": "4364d1b9-803c-42e0-bf2d-222ab918fd81",
   "metadata": {},
   "outputs": [],
   "source": [
    "predictions = lr_model.transform(test_data)"
   ]
  },
  {
   "cell_type": "code",
   "execution_count": 18,
   "id": "61e0c85e-653d-4d27-aabb-4f8e95386d7e",
   "metadata": {},
   "outputs": [
    {
     "name": "stdout",
     "output_type": "stream",
     "text": [
      "Classification Accuracy: 0.9348\n"
     ]
    }
   ],
   "source": [
    "evaluator = MulticlassClassificationEvaluator(labelCol=\"label\", predictionCol=\"prediction\", metricName=\"accuracy\")\n",
    "accuracy = evaluator.evaluate(predictions)\n",
    "\n",
    "print(f\"Classification Accuracy: {accuracy:.4f}\")"
   ]
  },
  {
   "cell_type": "markdown",
   "id": "cd7ea623-5add-4554-9d31-c341fae9d198",
   "metadata": {},
   "source": [
    "## Кластеризация"
   ]
  },
  {
   "cell_type": "code",
   "execution_count": 19,
   "id": "e360a5fa-b7f2-42a2-a030-c6fc71296829",
   "metadata": {},
   "outputs": [],
   "source": [
    "kmeans = KMeans(featuresCol=\"features\", k=3, seed=1)\n",
    "kmeans_model = kmeans.fit(df)"
   ]
  },
  {
   "cell_type": "code",
   "execution_count": 20,
   "id": "55250105-fced-48e2-90fa-170bf6f0b7d7",
   "metadata": {},
   "outputs": [],
   "source": [
    "clustered = kmeans_model.transform(df)"
   ]
  },
  {
   "cell_type": "code",
   "execution_count": 21,
   "id": "79962565-ee00-4fee-9d9b-4454dfc41328",
   "metadata": {},
   "outputs": [
    {
     "name": "stdout",
     "output_type": "stream",
     "text": [
      "Clustering Silhouette Score: 0.7355\n"
     ]
    }
   ],
   "source": [
    "clustering_evaluator = ClusteringEvaluator()\n",
    "silhouette = clustering_evaluator.evaluate(clustered)\n",
    "\n",
    "print(f\"Clustering Silhouette Score: {silhouette:.4f}\")"
   ]
  }
 ],
 "metadata": {
  "kernelspec": {
   "display_name": "Python 3 (ipykernel)",
   "language": "python",
   "name": "python3"
  },
  "language_info": {
   "codemirror_mode": {
    "name": "ipython",
    "version": 3
   },
   "file_extension": ".py",
   "mimetype": "text/x-python",
   "name": "python",
   "nbconvert_exporter": "python",
   "pygments_lexer": "ipython3",
   "version": "3.12.9"
  }
 },
 "nbformat": 4,
 "nbformat_minor": 5
}
