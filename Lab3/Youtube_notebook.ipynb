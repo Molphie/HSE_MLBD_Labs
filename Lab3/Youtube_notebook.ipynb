{
 "cells": [
  {
   "cell_type": "code",
   "execution_count": 1,
   "id": "452089b9-d08e-4c62-bded-16b0119a190d",
   "metadata": {},
   "outputs": [
    {
     "name": "stderr",
     "output_type": "stream",
     "text": [
      "25/06/10 00:27:37 WARN Utils: Your hostname, Molphie resolves to a loopback address: 127.0.1.1; using 192.168.6.223 instead (on interface enp4s0)\n",
      "25/06/10 00:27:37 WARN Utils: Set SPARK_LOCAL_IP if you need to bind to another address\n",
      "Setting default log level to \"WARN\".\n",
      "To adjust logging level use sc.setLogLevel(newLevel). For SparkR, use setLogLevel(newLevel).\n",
      "25/06/10 00:27:37 WARN NativeCodeLoader: Unable to load native-hadoop library for your platform... using builtin-java classes where applicable\n",
      "25/06/10 00:27:38 WARN Utils: Service 'SparkUI' could not bind on port 4040. Attempting port 4041.\n",
      "25/06/10 00:27:38 WARN Utils: Service 'SparkUI' could not bind on port 4041. Attempting port 4042.\n"
     ]
    }
   ],
   "source": [
    "from pyspark.sql import SparkSession\n",
    "from pyspark.sql.functions import regexp_replace, col, when\n",
    "from pyspark.ml import Pipeline\n",
    "from pyspark.ml.feature import VectorAssembler, StandardScaler\n",
    "from pyspark.ml.clustering import KMeans\n",
    "from pyspark.ml.evaluation import ClusteringEvaluator, RegressionEvaluator, MulticlassClassificationEvaluator\n",
    "from pyspark.ml.regression import LinearRegression\n",
    "from pyspark.ml.classification import RandomForestClassifier\n",
    "\n",
    "spark = SparkSession.builder.appName(\"YouTubeChannelsAnalysis\").getOrCreate()"
   ]
  },
  {
   "cell_type": "code",
   "execution_count": 2,
   "id": "20f76b71-bfc7-4705-9c5a-06ca2e2719cc",
   "metadata": {},
   "outputs": [
    {
     "name": "stderr",
     "output_type": "stream",
     "text": [
      "                                                                                "
     ]
    }
   ],
   "source": [
    "df = spark.read.csv(\"youtube_channels.csv\", header=True, inferSchema=True)"
   ]
  },
  {
   "cell_type": "code",
   "execution_count": 3,
   "id": "0db2f44d-ef93-4071-8e4c-59dfc3cc1707",
   "metadata": {},
   "outputs": [],
   "source": [
    "num_cols = [\n",
    "    \"subscriber_count\", \"total_views\", \"total_videos\",\n",
    "    \"mean_views_last_30_videos\", \"median_views_last_30_videos\",\n",
    "    \"std_views_last_30_videos\", \"videos_per_week\"\n",
    "]\n",
    "\n",
    "for c in num_cols:\n",
    "    df = df.withColumn(c, regexp_replace(col(c), \"[^0-9.]\", \"\").cast(\"double\"))\n",
    "\n",
    "df = df.dropna(subset=num_cols)"
   ]
  },
  {
   "cell_type": "code",
   "execution_count": 4,
   "id": "9f9c3cde-db3e-4ddc-8137-cd27bb83539b",
   "metadata": {},
   "outputs": [],
   "source": [
    "train_df, test_df = df.randomSplit([0.8, 0.2], seed=42)"
   ]
  },
  {
   "cell_type": "markdown",
   "id": "0df5fcbb-ec7a-4641-99ab-733f15da2832",
   "metadata": {},
   "source": [
    "# Кластеризация"
   ]
  },
  {
   "cell_type": "code",
   "execution_count": 5,
   "id": "55f181d8-9511-40f9-97f7-cf0817164753",
   "metadata": {},
   "outputs": [],
   "source": [
    "cluster_features = [\n",
    "    \"subscriber_count\", \"total_views\", \"total_videos\",\n",
    "    \"median_views_last_30_videos\", \"std_views_last_30_videos\", \"videos_per_week\"\n",
    "]"
   ]
  },
  {
   "cell_type": "code",
   "execution_count": 6,
   "id": "b4a92520-0e91-4d9d-ae93-973a43906f9c",
   "metadata": {},
   "outputs": [],
   "source": [
    "assembler_c = VectorAssembler(inputCols=cluster_features, outputCol=\"features_raw\")\n",
    "scaler_c = StandardScaler(inputCol=\"features_raw\", outputCol=\"features\")\n",
    "pipeline_c = Pipeline(stages=[assembler_c, scaler_c])"
   ]
  },
  {
   "cell_type": "code",
   "execution_count": 7,
   "id": "8cd292f2-1e88-4335-8afc-1241d937d3ab",
   "metadata": {},
   "outputs": [
    {
     "name": "stderr",
     "output_type": "stream",
     "text": [
      "                                                                                "
     ]
    }
   ],
   "source": [
    "pipeline_model_c = pipeline_c.fit(train_df)\n",
    "train_c = pipeline_model_c.transform(train_df)\n",
    "test_c = pipeline_model_c.transform(test_df)"
   ]
  },
  {
   "cell_type": "code",
   "execution_count": 8,
   "id": "46b6fc71-dfb2-4253-bd8e-b075dbdb252d",
   "metadata": {},
   "outputs": [
    {
     "name": "stderr",
     "output_type": "stream",
     "text": [
      "25/06/10 00:28:38 WARN RowBasedKeyValueBatch: Calling spill() on RowBasedKeyValueBatch. Will not spill but return 0.\n",
      "[Stage 49:==========================================>              (9 + 3) / 12]"
     ]
    },
    {
     "name": "stdout",
     "output_type": "stream",
     "text": [
      "Silhouette Score (test set): 0.9992\n"
     ]
    },
    {
     "name": "stderr",
     "output_type": "stream",
     "text": [
      "                                                                                "
     ]
    }
   ],
   "source": [
    "kmeans = KMeans(k=4, seed=1, featuresCol=\"features\", predictionCol=\"cluster\")\n",
    "kmeans_model = kmeans.fit(train_c)\n",
    "test_clustered = kmeans_model.transform(test_c)\n",
    "\n",
    "evaluator_cluster = ClusteringEvaluator(predictionCol=\"cluster\", featuresCol=\"features\")\n",
    "silhouette = evaluator_cluster.evaluate(test_clustered)\n",
    "print(f\"Silhouette Score (test set): {silhouette:.4f}\")"
   ]
  },
  {
   "cell_type": "markdown",
   "id": "8411d1f8-cc1e-4d63-950e-a69adca722a3",
   "metadata": {},
   "source": [
    "# Регрессия"
   ]
  },
  {
   "cell_type": "code",
   "execution_count": 9,
   "id": "b1c48899-f8bb-4ed7-a864-aa5e2b26ffcd",
   "metadata": {},
   "outputs": [],
   "source": [
    "reg_features = [\n",
    "    \"subscriber_count\", \"total_views\", \"total_videos\",\n",
    "    \"median_views_last_30_videos\", \"std_views_last_30_videos\", \"videos_per_week\"\n",
    "]\n",
    "\n",
    "assembler_r = VectorAssembler(inputCols=reg_features, outputCol=\"features_raw\")\n",
    "scaler_r = StandardScaler(inputCol=\"features_raw\", outputCol=\"features\")\n",
    "pipeline_r = Pipeline(stages=[assembler_r, scaler_r])"
   ]
  },
  {
   "cell_type": "code",
   "execution_count": 10,
   "id": "2c68dfba-57a0-411b-9ce1-95390ce34930",
   "metadata": {},
   "outputs": [],
   "source": [
    "reg_train = train_df.dropna(subset=[\"mean_views_last_30_videos\"])\n",
    "reg_test = test_df.dropna(subset=[\"mean_views_last_30_videos\"])"
   ]
  },
  {
   "cell_type": "code",
   "execution_count": 11,
   "id": "95724760-1276-4979-a8db-ca8c0208c80b",
   "metadata": {},
   "outputs": [
    {
     "name": "stderr",
     "output_type": "stream",
     "text": [
      "                                                                                "
     ]
    }
   ],
   "source": [
    "pipeline_model_r = pipeline_r.fit(reg_train)\n",
    "reg_train = pipeline_model_r.transform(reg_train)\n",
    "reg_test = pipeline_model_r.transform(reg_test)"
   ]
  },
  {
   "cell_type": "code",
   "execution_count": 12,
   "id": "07915763-d4f0-4751-bd11-d6d0d9281504",
   "metadata": {},
   "outputs": [
    {
     "name": "stderr",
     "output_type": "stream",
     "text": [
      "25/06/10 00:29:10 WARN Instrumentation: [961cd030] regParam is zero, which might cause numerical instability and overfitting.\n",
      "                                                                                "
     ]
    },
    {
     "name": "stdout",
     "output_type": "stream",
     "text": [
      "Linear Regression RMSE: 232305.29\n"
     ]
    },
    {
     "name": "stderr",
     "output_type": "stream",
     "text": [
      "[Stage 61:==============================================>         (10 + 2) / 12]"
     ]
    },
    {
     "name": "stdout",
     "output_type": "stream",
     "text": [
      "Linear Regression R²: 0.9428\n"
     ]
    },
    {
     "name": "stderr",
     "output_type": "stream",
     "text": [
      "                                                                                "
     ]
    }
   ],
   "source": [
    "lr = LinearRegression(featuresCol=\"features\", labelCol=\"mean_views_last_30_videos\")\n",
    "lr_model = lr.fit(reg_train)\n",
    "reg_preds = lr_model.transform(reg_test)\n",
    "\n",
    "evaluator_rmse = RegressionEvaluator(labelCol=\"mean_views_last_30_videos\", predictionCol=\"prediction\", metricName=\"rmse\")\n",
    "evaluator_r2 = RegressionEvaluator(labelCol=\"mean_views_last_30_videos\", predictionCol=\"prediction\", metricName=\"r2\")\n",
    "\n",
    "print(f\"Linear Regression RMSE: {evaluator_rmse.evaluate(reg_preds):.2f}\")\n",
    "print(f\"Linear Regression R²: {evaluator_r2.evaluate(reg_preds):.4f}\")"
   ]
  },
  {
   "cell_type": "markdown",
   "id": "f682d413-aa94-48fe-9bb3-d9acb57a3625",
   "metadata": {},
   "source": [
    "# Классификация"
   ]
  },
  {
   "cell_type": "code",
   "execution_count": 13,
   "id": "d9acf471-cf28-4d13-afbf-5cd8512213ff",
   "metadata": {},
   "outputs": [
    {
     "name": "stderr",
     "output_type": "stream",
     "text": [
      "                                                                                "
     ]
    }
   ],
   "source": [
    "median_val = df.approxQuantile(\"videos_per_week\", [0.5], 0.01)[0]\n",
    "df_with_label = df.withColumn(\"label\", when(col(\"videos_per_week\") > median_val, 1).otherwise(0))"
   ]
  },
  {
   "cell_type": "code",
   "execution_count": 14,
   "id": "8faa8d53-fc20-4eaa-8427-052a53436b01",
   "metadata": {},
   "outputs": [],
   "source": [
    "train_df_l = train_df.join(df_with_label.select(\"channel_id\", \"label\"), on=\"channel_id\")\n",
    "test_df_l = test_df.join(df_with_label.select(\"channel_id\", \"label\"), on=\"channel_id\")"
   ]
  },
  {
   "cell_type": "code",
   "execution_count": 15,
   "id": "9efc063a-d194-4b58-a3c6-4485dbafe243",
   "metadata": {},
   "outputs": [],
   "source": [
    "clf_features = [\n",
    "    \"subscriber_count\", \"total_views\", \"total_videos\",\n",
    "    \"median_views_last_30_videos\", \"std_views_last_30_videos\", \"mean_views_last_30_videos\"\n",
    "]\n",
    "\n",
    "assembler_f = VectorAssembler(inputCols=clf_features, outputCol=\"features_raw\")\n",
    "scaler_f = StandardScaler(inputCol=\"features_raw\", outputCol=\"features\")\n",
    "pipeline_f = Pipeline(stages=[assembler_f, scaler_f])"
   ]
  },
  {
   "cell_type": "code",
   "execution_count": 16,
   "id": "c8e23b8f-b2f0-4bb8-afa5-952f9248b675",
   "metadata": {},
   "outputs": [
    {
     "name": "stderr",
     "output_type": "stream",
     "text": [
      "                                                                                "
     ]
    },
    {
     "name": "stdout",
     "output_type": "stream",
     "text": [
      "Random Forest Accuracy: 0.8040\n"
     ]
    },
    {
     "name": "stderr",
     "output_type": "stream",
     "text": [
      "                                                                                "
     ]
    },
    {
     "name": "stdout",
     "output_type": "stream",
     "text": [
      "Random Forest F1 Score: 0.7754\n"
     ]
    }
   ],
   "source": [
    "pipeline_model_f = pipeline_f.fit(train_df_l)\n",
    "train_clf = pipeline_model_f.transform(train_df_l)\n",
    "test_clf = pipeline_model_f.transform(test_df_l)\n",
    "\n",
    "rf = RandomForestClassifier(featuresCol=\"features\", labelCol=\"label\", numTrees=50)\n",
    "rf_model = rf.fit(train_clf)\n",
    "clf_preds = rf_model.transform(test_clf)\n",
    "\n",
    "evaluator_acc = MulticlassClassificationEvaluator(labelCol=\"label\", predictionCol=\"prediction\", metricName=\"accuracy\")\n",
    "evaluator_f1 = MulticlassClassificationEvaluator(labelCol=\"label\", predictionCol=\"prediction\", metricName=\"f1\")\n",
    "\n",
    "print(f\"Random Forest Accuracy: {evaluator_acc.evaluate(clf_preds):.4f}\")\n",
    "print(f\"Random Forest F1 Score: {evaluator_f1.evaluate(clf_preds):.4f}\")"
   ]
  }
 ],
 "metadata": {
  "kernelspec": {
   "display_name": "Python 3 (ipykernel)",
   "language": "python",
   "name": "python3"
  },
  "language_info": {
   "codemirror_mode": {
    "name": "ipython",
    "version": 3
   },
   "file_extension": ".py",
   "mimetype": "text/x-python",
   "name": "python",
   "nbconvert_exporter": "python",
   "pygments_lexer": "ipython3",
   "version": "3.12.9"
  }
 },
 "nbformat": 4,
 "nbformat_minor": 5
}
